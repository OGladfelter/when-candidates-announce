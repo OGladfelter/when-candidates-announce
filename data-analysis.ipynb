{
 "cells": [
  {
   "cell_type": "code",
   "execution_count": 1,
   "id": "9940dbcf",
   "metadata": {},
   "outputs": [],
   "source": [
    "import pandas as pd"
   ]
  },
  {
   "cell_type": "code",
   "execution_count": 2,
   "id": "1ca3ac31",
   "metadata": {},
   "outputs": [],
   "source": [
    "df = pd.read_csv(\"data/primaryCandidates.csv\")"
   ]
  },
  {
   "cell_type": "code",
   "execution_count": 4,
   "id": "820a72af",
   "metadata": {},
   "outputs": [],
   "source": [
    "df = df[['candidate', 'announced', 'party', 'year', 'daysAfterMidtermsAnnounced']]"
   ]
  },
  {
   "cell_type": "code",
   "execution_count": 6,
   "id": "793ef8d0",
   "metadata": {},
   "outputs": [],
   "source": [
    "df.to_csv('data/primaryCandidates.csv')"
   ]
  },
  {
   "cell_type": "code",
   "execution_count": null,
   "id": "a6f7cb1c",
   "metadata": {},
   "outputs": [],
   "source": []
  },
  {
   "cell_type": "code",
   "execution_count": 15,
   "id": "af4b76aa",
   "metadata": {},
   "outputs": [
    {
     "name": "stdout",
     "output_type": "stream",
     "text": [
      "163.5\n",
      "149.9418604651163\n"
     ]
    }
   ],
   "source": [
    "print(df['daysAfterMidtermsAnnounced'].median())\n",
    "print(df['daysAfterMidtermsAnnounced'].mean())"
   ]
  },
  {
   "cell_type": "code",
   "execution_count": 17,
   "id": "669ec711",
   "metadata": {},
   "outputs": [
    {
     "name": "stdout",
     "output_type": "stream",
     "text": [
      "123.0\n",
      "109.43181818181819\n"
     ]
    }
   ],
   "source": [
    "print(df[df['party']=='D']['daysAfterMidtermsAnnounced'].median())\n",
    "print(df[df['party']=='D']['daysAfterMidtermsAnnounced'].mean())"
   ]
  },
  {
   "cell_type": "code",
   "execution_count": 18,
   "id": "4456d9e4",
   "metadata": {},
   "outputs": [
    {
     "name": "stdout",
     "output_type": "stream",
     "text": [
      "202.0\n",
      "192.38095238095238\n"
     ]
    }
   ],
   "source": [
    "print(df[df['party']=='R']['daysAfterMidtermsAnnounced'].median())\n",
    "print(df[df['party']=='R']['daysAfterMidtermsAnnounced'].mean())"
   ]
  },
  {
   "cell_type": "code",
   "execution_count": null,
   "id": "634f72b6",
   "metadata": {},
   "outputs": [],
   "source": []
  },
  {
   "cell_type": "code",
   "execution_count": 26,
   "id": "cfd78d27",
   "metadata": {},
   "outputs": [
    {
     "name": "stdout",
     "output_type": "stream",
     "text": [
      "75.0\n",
      "106.66666666666667\n"
     ]
    }
   ],
   "source": [
    "print(df[(df['party']=='D') & (df['year']!=2020)]['daysAfterMidtermsAnnounced'].median())\n",
    "print(df[(df['party']=='D') & (df['year']!=2020)]['daysAfterMidtermsAnnounced'].mean())"
   ]
  },
  {
   "cell_type": "code",
   "execution_count": 28,
   "id": "deaf4b32",
   "metadata": {},
   "outputs": [
    {
     "name": "stdout",
     "output_type": "stream",
     "text": [
      "190.0\n",
      "182.32\n"
     ]
    }
   ],
   "source": [
    "print(df[(df['party']=='R') & (df['year']!=2016)]['daysAfterMidtermsAnnounced'].median())\n",
    "print(df[(df['party']=='R') & (df['year']!=2016)]['daysAfterMidtermsAnnounced'].mean())"
   ]
  },
  {
   "cell_type": "code",
   "execution_count": null,
   "id": "0eeb9b4a",
   "metadata": {},
   "outputs": [],
   "source": []
  }
 ],
 "metadata": {
  "kernelspec": {
   "display_name": "Python 3",
   "language": "python",
   "name": "python3"
  },
  "language_info": {
   "codemirror_mode": {
    "name": "ipython",
    "version": 3
   },
   "file_extension": ".py",
   "mimetype": "text/x-python",
   "name": "python",
   "nbconvert_exporter": "python",
   "pygments_lexer": "ipython3",
   "version": "3.8.8"
  }
 },
 "nbformat": 4,
 "nbformat_minor": 5
}
